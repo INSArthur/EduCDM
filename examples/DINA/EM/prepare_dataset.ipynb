{
 "cells": [
  {
   "cell_type": "code",
   "execution_count": 1,
   "metadata": {
    "ExecuteTime": {
     "end_time": "2023-07-10T13:54:22.400094055Z",
     "start_time": "2023-07-10T13:54:17.601043507Z"
    }
   },
   "outputs": [
    {
     "name": "stderr",
     "output_type": "stream",
     "text": [
      "downloader, INFO http://staff.ustc.edu.cn/~qiliuql/data/math2015.rar is saved as ../../../data/math2015.rar\n"
     ]
    },
    {
     "name": "stdout",
     "output_type": "stream",
     "text": [
      "Downloading ../../../data/math2015.rar 100.00%: 111KB | 111KB"
     ]
    },
    {
     "name": "stderr",
     "output_type": "stream",
     "text": [
      "downloader, INFO ../../../data/math2015.rar is unrar to ../../../data/math2015\n"
     ]
    },
    {
     "name": "stdout",
     "output_type": "stream",
     "text": [
      "\n"
     ]
    },
    {
     "ename": "RarCannotExec",
     "evalue": "Cannot find working tool",
     "output_type": "error",
     "traceback": [
      "\u001B[0;31m---------------------------------------------------------------------------\u001B[0m",
      "\u001B[0;31mRarCannotExec\u001B[0m                             Traceback (most recent call last)",
      "Cell \u001B[0;32mIn[1], line 4\u001B[0m\n\u001B[1;32m      1\u001B[0m \u001B[38;5;66;03m# Download the Cognitive Diagnosis Benchmark Datasets (CDBD)\u001B[39;00m\n\u001B[1;32m      2\u001B[0m \u001B[38;5;28;01mfrom\u001B[39;00m \u001B[38;5;21;01mEduData\u001B[39;00m \u001B[38;5;28;01mimport\u001B[39;00m get_data\n\u001B[0;32m----> 4\u001B[0m \u001B[43mget_data\u001B[49m\u001B[43m(\u001B[49m\u001B[38;5;124;43m\"\u001B[39;49m\u001B[38;5;124;43mmath2015\u001B[39;49m\u001B[38;5;124;43m\"\u001B[39;49m\u001B[43m,\u001B[49m\u001B[43m \u001B[49m\u001B[38;5;124;43m\"\u001B[39;49m\u001B[38;5;124;43m../../../data\u001B[39;49m\u001B[38;5;124;43m\"\u001B[39;49m\u001B[43m)\u001B[49m\n",
      "File \u001B[0;32m~/Programmation/EduData/EduData/DataSet/download_data/download_data.py:223\u001B[0m, in \u001B[0;36mget_data\u001B[0;34m(dataset, data_dir, override, url_dict)\u001B[0m\n\u001B[1;32m    220\u001B[0m save_path \u001B[38;5;241m=\u001B[39m path_append(data_dir, url\u001B[38;5;241m.\u001B[39msplit(\u001B[38;5;124m'\u001B[39m\u001B[38;5;124m/\u001B[39m\u001B[38;5;124m'\u001B[39m)[\u001B[38;5;241m-\u001B[39m\u001B[38;5;241m1\u001B[39m], to_str\u001B[38;5;241m=\u001B[39m\u001B[38;5;28;01mTrue\u001B[39;00m)\n\u001B[1;32m    222\u001B[0m \u001B[38;5;28;01mtry\u001B[39;00m:\n\u001B[0;32m--> 223\u001B[0m     \u001B[38;5;28;01mreturn\u001B[39;00m \u001B[43mdownload_data\u001B[49m\u001B[43m(\u001B[49m\u001B[43murl\u001B[49m\u001B[43m,\u001B[49m\u001B[43m \u001B[49m\u001B[43mdata_dir\u001B[49m\u001B[43m,\u001B[49m\u001B[43m \u001B[49m\u001B[43moverride\u001B[49m\u001B[43m)\u001B[49m\n\u001B[1;32m    224\u001B[0m \u001B[38;5;28;01mexcept\u001B[39;00m \u001B[38;5;167;01mFileExistsError\u001B[39;00m:\n\u001B[1;32m    225\u001B[0m     logger\u001B[38;5;241m.\u001B[39minfo(\u001B[38;5;124m\"\u001B[39m\u001B[38;5;124mfile existed, skipped\u001B[39m\u001B[38;5;124m\"\u001B[39m)\n",
      "File \u001B[0;32m~/Programmation/EduData/EduData/DataSet/download_data/download_data.py:190\u001B[0m, in \u001B[0;36mdownload_data\u001B[0;34m(url, data_dir, override, bloom_filter)\u001B[0m\n\u001B[1;32m    188\u001B[0m os\u001B[38;5;241m.\u001B[39mmakedirs(data_dir, exist_ok\u001B[38;5;241m=\u001B[39m\u001B[38;5;28;01mTrue\u001B[39;00m)\n\u001B[1;32m    189\u001B[0m save_path \u001B[38;5;241m=\u001B[39m path_append(data_dir, url\u001B[38;5;241m.\u001B[39msplit(\u001B[38;5;124m'\u001B[39m\u001B[38;5;124m/\u001B[39m\u001B[38;5;124m'\u001B[39m)[\u001B[38;5;241m-\u001B[39m\u001B[38;5;241m1\u001B[39m], to_str\u001B[38;5;241m=\u001B[39m\u001B[38;5;28;01mTrue\u001B[39;00m)\n\u001B[0;32m--> 190\u001B[0m _data_dir \u001B[38;5;241m=\u001B[39m \u001B[43mdownload_file\u001B[49m\u001B[43m(\u001B[49m\u001B[43murl\u001B[49m\u001B[43m,\u001B[49m\u001B[43m \u001B[49m\u001B[43msave_path\u001B[49m\u001B[43m,\u001B[49m\u001B[43m \u001B[49m\u001B[43moverride\u001B[49m\u001B[43m)\u001B[49m\n\u001B[1;32m    191\u001B[0m bloom_filter\u001B[38;5;241m.\u001B[39madd(url)\n\u001B[1;32m    192\u001B[0m \u001B[38;5;28;01mreturn\u001B[39;00m _data_dir\n",
      "File \u001B[0;32m~/Programmation/EduData/EduData/DataSet/download_data/download_data.py:161\u001B[0m, in \u001B[0;36mdownload_file\u001B[0;34m(url, save_path, override, chunksize)\u001B[0m\n\u001B[1;32m    157\u001B[0m         flush_print(\u001B[38;5;124m'\u001B[39m\u001B[38;5;124mDownloading \u001B[39m\u001B[38;5;132;01m%s\u001B[39;00m\u001B[38;5;124m \u001B[39m\u001B[38;5;132;01m%.2f\u001B[39;00m\u001B[38;5;132;01m%%\u001B[39;00m\u001B[38;5;124m: \u001B[39m\u001B[38;5;132;01m%s\u001B[39;00m\u001B[38;5;124m | \u001B[39m\u001B[38;5;132;01m%s\u001B[39;00m\u001B[38;5;124m'\u001B[39m \u001B[38;5;241m%\u001B[39m (save_path, downloaded \u001B[38;5;241m/\u001B[39m file_origin_size \u001B[38;5;241m*\u001B[39m \u001B[38;5;241m100\u001B[39m,\n\u001B[1;32m    158\u001B[0m                                                         format_byte_sizeof(downloaded),\n\u001B[1;32m    159\u001B[0m                                                         format_byte_sizeof(file_origin_size)))\n\u001B[1;32m    160\u001B[0m \u001B[38;5;28mprint\u001B[39m()\n\u001B[0;32m--> 161\u001B[0m \u001B[38;5;28;01mreturn\u001B[39;00m \u001B[43mdecompress\u001B[49m\u001B[43m(\u001B[49m\u001B[43msave_path\u001B[49m\u001B[43m)\u001B[49m\n",
      "File \u001B[0;32m~/Programmation/EduData/EduData/DataSet/download_data/utils.py:19\u001B[0m, in \u001B[0;36mdecompress\u001B[0;34m(file)\u001B[0m\n\u001B[1;32m     17\u001B[0m     \u001B[38;5;28;01mreturn\u001B[39;00m un_zip(file)\n\u001B[1;32m     18\u001B[0m \u001B[38;5;28;01melif\u001B[39;00m z \u001B[38;5;241m==\u001B[39m \u001B[38;5;124m\"\u001B[39m\u001B[38;5;124m.rar\u001B[39m\u001B[38;5;124m\"\u001B[39m:\n\u001B[0;32m---> 19\u001B[0m     \u001B[38;5;28;01mreturn\u001B[39;00m \u001B[43mun_rar\u001B[49m\u001B[43m(\u001B[49m\u001B[43mfile\u001B[49m\u001B[43m)\u001B[49m\n\u001B[1;32m     20\u001B[0m \u001B[38;5;28;01melse\u001B[39;00m:\n\u001B[1;32m     21\u001B[0m     \u001B[38;5;28;01mreturn\u001B[39;00m un_tar(file)\n",
      "File \u001B[0;32m~/Programmation/EduData/EduData/DataSet/download_data/utils.py:46\u001B[0m, in \u001B[0;36mun_rar\u001B[0;34m(file)\u001B[0m\n\u001B[1;32m     44\u001B[0m uz_path \u001B[38;5;241m=\u001B[39m get_uz_path(file)\n\u001B[1;32m     45\u001B[0m logger\u001B[38;5;241m.\u001B[39minfo(file \u001B[38;5;241m+\u001B[39m \u001B[38;5;124m\"\u001B[39m\u001B[38;5;124m is unrar to \u001B[39m\u001B[38;5;124m\"\u001B[39m \u001B[38;5;241m+\u001B[39m uz_path)\n\u001B[0;32m---> 46\u001B[0m \u001B[43mrar_file\u001B[49m\u001B[38;5;241;43m.\u001B[39;49m\u001B[43mextractall\u001B[49m\u001B[43m(\u001B[49m\u001B[43muz_path\u001B[49m\u001B[43m)\u001B[49m\n\u001B[1;32m     47\u001B[0m \u001B[38;5;28;01mreturn\u001B[39;00m uz_path\n",
      "File \u001B[0;32m~/anaconda3/envs/conda_EduCDM/lib/python3.8/site-packages/rarfile.py:847\u001B[0m, in \u001B[0;36mRarFile.extractall\u001B[0;34m(self, path, members, pwd)\u001B[0m\n\u001B[1;32m    845\u001B[0m \u001B[38;5;28;01mfor\u001B[39;00m m \u001B[38;5;129;01min\u001B[39;00m members:\n\u001B[1;32m    846\u001B[0m     inf \u001B[38;5;241m=\u001B[39m \u001B[38;5;28mself\u001B[39m\u001B[38;5;241m.\u001B[39mgetinfo(m)\n\u001B[0;32m--> 847\u001B[0m     dst \u001B[38;5;241m=\u001B[39m \u001B[38;5;28;43mself\u001B[39;49m\u001B[38;5;241;43m.\u001B[39;49m\u001B[43m_extract_one\u001B[49m\u001B[43m(\u001B[49m\u001B[43minf\u001B[49m\u001B[43m,\u001B[49m\u001B[43m \u001B[49m\u001B[43mpath\u001B[49m\u001B[43m,\u001B[49m\u001B[43m \u001B[49m\u001B[43mpwd\u001B[49m\u001B[43m,\u001B[49m\u001B[43m \u001B[49m\u001B[38;5;129;43;01mnot\u001B[39;49;00m\u001B[43m \u001B[49m\u001B[43minf\u001B[49m\u001B[38;5;241;43m.\u001B[39;49m\u001B[43mis_dir\u001B[49m\u001B[43m(\u001B[49m\u001B[43m)\u001B[49m\u001B[43m)\u001B[49m\n\u001B[1;32m    848\u001B[0m     \u001B[38;5;28;01mif\u001B[39;00m inf\u001B[38;5;241m.\u001B[39mis_dir():\n\u001B[1;32m    849\u001B[0m         \u001B[38;5;28;01mif\u001B[39;00m dst \u001B[38;5;129;01mnot\u001B[39;00m \u001B[38;5;129;01min\u001B[39;00m done:\n",
      "File \u001B[0;32m~/anaconda3/envs/conda_EduCDM/lib/python3.8/site-packages/rarfile.py:912\u001B[0m, in \u001B[0;36mRarFile._extract_one\u001B[0;34m(self, info, path, pwd, set_attrs)\u001B[0m\n\u001B[1;32m    909\u001B[0m     os\u001B[38;5;241m.\u001B[39mmakedirs(dirname, exist_ok\u001B[38;5;241m=\u001B[39m\u001B[38;5;28;01mTrue\u001B[39;00m)\n\u001B[1;32m    911\u001B[0m \u001B[38;5;28;01mif\u001B[39;00m info\u001B[38;5;241m.\u001B[39mis_file():\n\u001B[0;32m--> 912\u001B[0m     \u001B[38;5;28;01mreturn\u001B[39;00m \u001B[38;5;28;43mself\u001B[39;49m\u001B[38;5;241;43m.\u001B[39;49m\u001B[43m_make_file\u001B[49m\u001B[43m(\u001B[49m\u001B[43minfo\u001B[49m\u001B[43m,\u001B[49m\u001B[43m \u001B[49m\u001B[43mdstfn\u001B[49m\u001B[43m,\u001B[49m\u001B[43m \u001B[49m\u001B[43mpwd\u001B[49m\u001B[43m,\u001B[49m\u001B[43m \u001B[49m\u001B[43mset_attrs\u001B[49m\u001B[43m)\u001B[49m\n\u001B[1;32m    913\u001B[0m \u001B[38;5;28;01mif\u001B[39;00m info\u001B[38;5;241m.\u001B[39mis_dir():\n\u001B[1;32m    914\u001B[0m     \u001B[38;5;28;01mreturn\u001B[39;00m \u001B[38;5;28mself\u001B[39m\u001B[38;5;241m.\u001B[39m_make_dir(info, dstfn, pwd, set_attrs)\n",
      "File \u001B[0;32m~/anaconda3/envs/conda_EduCDM/lib/python3.8/site-packages/rarfile.py:925\u001B[0m, in \u001B[0;36mRarFile._make_file\u001B[0;34m(self, info, dstfn, pwd, set_attrs)\u001B[0m\n\u001B[1;32m    923\u001B[0m \u001B[38;5;28;01mdef\u001B[39;00m \u001B[38;5;21mhelper\u001B[39m(name, flags):\n\u001B[1;32m    924\u001B[0m     \u001B[38;5;28;01mreturn\u001B[39;00m \u001B[38;5;28mself\u001B[39m\u001B[38;5;241m.\u001B[39m_create_helper(name, flags, info)\n\u001B[0;32m--> 925\u001B[0m \u001B[38;5;28;01mwith\u001B[39;00m \u001B[38;5;28;43mself\u001B[39;49m\u001B[38;5;241;43m.\u001B[39;49m\u001B[43mopen\u001B[49m\u001B[43m(\u001B[49m\u001B[43minfo\u001B[49m\u001B[43m,\u001B[49m\u001B[43m \u001B[49m\u001B[38;5;124;43m\"\u001B[39;49m\u001B[38;5;124;43mr\u001B[39;49m\u001B[38;5;124;43m\"\u001B[39;49m\u001B[43m,\u001B[49m\u001B[43m \u001B[49m\u001B[43mpwd\u001B[49m\u001B[43m)\u001B[49m \u001B[38;5;28;01mas\u001B[39;00m src:\n\u001B[1;32m    926\u001B[0m     \u001B[38;5;28;01mwith\u001B[39;00m \u001B[38;5;28mopen\u001B[39m(dstfn, \u001B[38;5;124m\"\u001B[39m\u001B[38;5;124mwb\u001B[39m\u001B[38;5;124m\"\u001B[39m, opener\u001B[38;5;241m=\u001B[39mhelper) \u001B[38;5;28;01mas\u001B[39;00m dst:\n\u001B[1;32m    927\u001B[0m         shutil\u001B[38;5;241m.\u001B[39mcopyfileobj(src, dst)\n",
      "File \u001B[0;32m~/anaconda3/envs/conda_EduCDM/lib/python3.8/site-packages/rarfile.py:783\u001B[0m, in \u001B[0;36mRarFile.open\u001B[0;34m(self, name, mode, pwd)\u001B[0m\n\u001B[1;32m    780\u001B[0m \u001B[38;5;28;01melse\u001B[39;00m:\n\u001B[1;32m    781\u001B[0m     pwd \u001B[38;5;241m=\u001B[39m \u001B[38;5;28;01mNone\u001B[39;00m\n\u001B[0;32m--> 783\u001B[0m \u001B[38;5;28;01mreturn\u001B[39;00m \u001B[38;5;28;43mself\u001B[39;49m\u001B[38;5;241;43m.\u001B[39;49m\u001B[43m_file_parser\u001B[49m\u001B[38;5;241;43m.\u001B[39;49m\u001B[43mopen\u001B[49m\u001B[43m(\u001B[49m\u001B[43minf\u001B[49m\u001B[43m,\u001B[49m\u001B[43m \u001B[49m\u001B[43mpwd\u001B[49m\u001B[43m)\u001B[49m\n",
      "File \u001B[0;32m~/anaconda3/envs/conda_EduCDM/lib/python3.8/site-packages/rarfile.py:1237\u001B[0m, in \u001B[0;36mCommonParser.open\u001B[0;34m(self, inf, pwd)\u001B[0m\n\u001B[1;32m   1235\u001B[0m     \u001B[38;5;28;01mreturn\u001B[39;00m \u001B[38;5;28mself\u001B[39m\u001B[38;5;241m.\u001B[39m_open_clear(inf)\n\u001B[1;32m   1236\u001B[0m \u001B[38;5;28;01melif\u001B[39;00m use_hack:\n\u001B[0;32m-> 1237\u001B[0m     \u001B[38;5;28;01mreturn\u001B[39;00m \u001B[38;5;28;43mself\u001B[39;49m\u001B[38;5;241;43m.\u001B[39;49m\u001B[43m_open_hack\u001B[49m\u001B[43m(\u001B[49m\u001B[43minf\u001B[49m\u001B[43m,\u001B[49m\u001B[43m \u001B[49m\u001B[43mpwd\u001B[49m\u001B[43m)\u001B[49m\n\u001B[1;32m   1238\u001B[0m \u001B[38;5;28;01melif\u001B[39;00m is_filelike(\u001B[38;5;28mself\u001B[39m\u001B[38;5;241m.\u001B[39m_rarfile):\n\u001B[1;32m   1239\u001B[0m     \u001B[38;5;28;01mreturn\u001B[39;00m \u001B[38;5;28mself\u001B[39m\u001B[38;5;241m.\u001B[39m_open_unrar_membuf(\u001B[38;5;28mself\u001B[39m\u001B[38;5;241m.\u001B[39m_rarfile, inf, pwd)\n",
      "File \u001B[0;32m~/anaconda3/envs/conda_EduCDM/lib/python3.8/site-packages/rarfile.py:1621\u001B[0m, in \u001B[0;36mRAR3Parser._open_hack\u001B[0;34m(self, inf, pwd)\u001B[0m\n\u001B[1;32m   1618\u001B[0m \u001B[38;5;28;01mdef\u001B[39;00m \u001B[38;5;21m_open_hack\u001B[39m(\u001B[38;5;28mself\u001B[39m, inf, pwd):\n\u001B[1;32m   1619\u001B[0m     \u001B[38;5;66;03m# create main header: crc, type, flags, size, res1, res2\u001B[39;00m\n\u001B[1;32m   1620\u001B[0m     prefix \u001B[38;5;241m=\u001B[39m RAR_ID \u001B[38;5;241m+\u001B[39m S_BLK_HDR\u001B[38;5;241m.\u001B[39mpack(\u001B[38;5;241m0x90CF\u001B[39m, \u001B[38;5;241m0x73\u001B[39m, \u001B[38;5;241m0\u001B[39m, \u001B[38;5;241m13\u001B[39m) \u001B[38;5;241m+\u001B[39m \u001B[38;5;124mb\u001B[39m\u001B[38;5;124m\"\u001B[39m\u001B[38;5;130;01m\\0\u001B[39;00m\u001B[38;5;124m\"\u001B[39m \u001B[38;5;241m*\u001B[39m (\u001B[38;5;241m2\u001B[39m \u001B[38;5;241m+\u001B[39m \u001B[38;5;241m4\u001B[39m)\n\u001B[0;32m-> 1621\u001B[0m     \u001B[38;5;28;01mreturn\u001B[39;00m \u001B[38;5;28;43mself\u001B[39;49m\u001B[38;5;241;43m.\u001B[39;49m\u001B[43m_open_hack_core\u001B[49m\u001B[43m(\u001B[49m\u001B[43minf\u001B[49m\u001B[43m,\u001B[49m\u001B[43m \u001B[49m\u001B[43mpwd\u001B[49m\u001B[43m,\u001B[49m\u001B[43m \u001B[49m\u001B[43mprefix\u001B[49m\u001B[43m,\u001B[49m\u001B[43m \u001B[49m\u001B[38;5;124;43mb\u001B[39;49m\u001B[38;5;124;43m\"\u001B[39;49m\u001B[38;5;124;43m\"\u001B[39;49m\u001B[43m)\u001B[49m\n",
      "File \u001B[0;32m~/anaconda3/envs/conda_EduCDM/lib/python3.8/site-packages/rarfile.py:1275\u001B[0m, in \u001B[0;36mCommonParser._open_hack_core\u001B[0;34m(self, inf, pwd, prefix, suffix)\u001B[0m\n\u001B[1;32m   1272\u001B[0m     os\u001B[38;5;241m.\u001B[39munlink(tmpname)\n\u001B[1;32m   1273\u001B[0m     \u001B[38;5;28;01mraise\u001B[39;00m\n\u001B[0;32m-> 1275\u001B[0m \u001B[38;5;28;01mreturn\u001B[39;00m \u001B[38;5;28;43mself\u001B[39;49m\u001B[38;5;241;43m.\u001B[39;49m\u001B[43m_open_unrar\u001B[49m\u001B[43m(\u001B[49m\u001B[43mtmpname\u001B[49m\u001B[43m,\u001B[49m\u001B[43m \u001B[49m\u001B[43minf\u001B[49m\u001B[43m,\u001B[49m\u001B[43m \u001B[49m\u001B[43mpwd\u001B[49m\u001B[43m,\u001B[49m\u001B[43m \u001B[49m\u001B[43mtmpname\u001B[49m\u001B[43m)\u001B[49m\n",
      "File \u001B[0;32m~/anaconda3/envs/conda_EduCDM/lib/python3.8/site-packages/rarfile.py:1286\u001B[0m, in \u001B[0;36mCommonParser._open_unrar\u001B[0;34m(self, rarfile, inf, pwd, tmpfile, force_file)\u001B[0m\n\u001B[1;32m   1283\u001B[0m \u001B[38;5;28;01mdef\u001B[39;00m \u001B[38;5;21m_open_unrar\u001B[39m(\u001B[38;5;28mself\u001B[39m, rarfile, inf, pwd\u001B[38;5;241m=\u001B[39m\u001B[38;5;28;01mNone\u001B[39;00m, tmpfile\u001B[38;5;241m=\u001B[39m\u001B[38;5;28;01mNone\u001B[39;00m, force_file\u001B[38;5;241m=\u001B[39m\u001B[38;5;28;01mFalse\u001B[39;00m):\n\u001B[1;32m   1284\u001B[0m     \u001B[38;5;124;03m\"\"\"Extract using unrar\u001B[39;00m\n\u001B[1;32m   1285\u001B[0m \u001B[38;5;124;03m    \"\"\"\u001B[39;00m\n\u001B[0;32m-> 1286\u001B[0m     setup \u001B[38;5;241m=\u001B[39m \u001B[43mtool_setup\u001B[49m\u001B[43m(\u001B[49m\u001B[43m)\u001B[49m\n\u001B[1;32m   1288\u001B[0m     \u001B[38;5;66;03m# not giving filename avoids encoding related problems\u001B[39;00m\n\u001B[1;32m   1289\u001B[0m     fn \u001B[38;5;241m=\u001B[39m \u001B[38;5;28;01mNone\u001B[39;00m\n",
      "File \u001B[0;32m~/anaconda3/envs/conda_EduCDM/lib/python3.8/site-packages/rarfile.py:3331\u001B[0m, in \u001B[0;36mtool_setup\u001B[0;34m(unrar, unar, bsdtar, force)\u001B[0m\n\u001B[1;32m   3329\u001B[0m         \u001B[38;5;28;01mbreak\u001B[39;00m\n\u001B[1;32m   3330\u001B[0m \u001B[38;5;28;01mif\u001B[39;00m CURRENT_SETUP \u001B[38;5;129;01mis\u001B[39;00m \u001B[38;5;28;01mNone\u001B[39;00m:\n\u001B[0;32m-> 3331\u001B[0m     \u001B[38;5;28;01mraise\u001B[39;00m RarCannotExec(\u001B[38;5;124m\"\u001B[39m\u001B[38;5;124mCannot find working tool\u001B[39m\u001B[38;5;124m\"\u001B[39m)\n\u001B[1;32m   3332\u001B[0m \u001B[38;5;28;01mreturn\u001B[39;00m CURRENT_SETUP\n",
      "\u001B[0;31mRarCannotExec\u001B[0m: Cannot find working tool"
     ]
    }
   ],
   "source": [
    "# Download the Cognitive Diagnosis Benchmark Datasets (CDBD)\n",
    "from EduData import get_data\n",
    "\n",
    "get_data(\"math2015\", \"../../../data\")"
   ]
  },
  {
   "cell_type": "code",
   "execution_count": 1,
   "metadata": {},
   "outputs": [
    {
     "name": "stdout",
     "output_type": "stream",
     "text": [
      "{'user_id': 0, 'item_id': 5, 'score': 1.0} {'user_id': 0, 'item_id': 8, 'score': 1.0}\n"
     ]
    }
   ],
   "source": [
    "# Data preprocessing, split train/valid/test data\n",
    "\n",
    "import numpy as np\n",
    "import random\n",
    "import json\n",
    "\n",
    "train_ratio = 0.8\n",
    "valid_ratio = 0\n",
    "# Q matrix\n",
    "np.savetxt(\"../../../data/math2015/Math1/q_m.csv\", np.loadtxt(\"../../../data/math2015/Math1/q.txt\", dtype=int), delimiter=',', fmt='%d')\n",
    "\n",
    "# response matrix, split dataset\n",
    "R = (np.loadtxt(\"../../../data/math2015/Math1/data.txt\") == 1).astype(float)\n",
    "stu_num, prob_num = R.shape[0], R.shape[1]\n",
    "train_logs, valid_logs, test_logs = [], [], []\n",
    "for stu in range(stu_num):\n",
    "    stu_logs = []\n",
    "    for prob in range(prob_num):\n",
    "        log = {'user_id': int(stu), 'item_id': int(prob), 'score': R[stu][prob]}\n",
    "        stu_logs.append(log)\n",
    "    random.shuffle(stu_logs)\n",
    "    train_logs += stu_logs[: int(train_ratio * prob_num)]\n",
    "    valid_logs += stu_logs[int(train_ratio * prob_num): int(train_ratio * prob_num) + int(valid_ratio * prob_num)]\n",
    "    test_logs += stu_logs[int(train_ratio * prob_num) + int(valid_ratio * prob_num):]\n",
    "\n",
    "with open(\"../../../data/math2015/Math1/train_data.json\", 'w', encoding='utf8') as file:\n",
    "    json.dump(train_logs, file, indent=4, ensure_ascii=False)\n",
    "with open(\"../../../data/math2015/Math1/valid_data.json\", 'w', encoding='utf8') as file:\n",
    "    json.dump(valid_logs, file, indent=4, ensure_ascii=False)\n",
    "with open(\"../../../data/math2015/Math1/test_data.json\", 'w', encoding='utf8') as file:\n",
    "    json.dump(test_logs, file, indent=4, ensure_ascii=False)\n",
    "\n",
    "print(train_logs[0], test_logs[0])"
   ]
  },
  {
   "cell_type": "code",
   "execution_count": null,
   "metadata": {},
   "outputs": [],
   "source": []
  }
 ],
 "metadata": {
  "kernelspec": {
   "display_name": "Python 3",
   "language": "python",
   "name": "python3"
  },
  "language_info": {
   "codemirror_mode": {
    "name": "ipython",
    "version": 3
   },
   "file_extension": ".py",
   "mimetype": "text/x-python",
   "name": "python",
   "nbconvert_exporter": "python",
   "pygments_lexer": "ipython3",
   "version": "3.7.3"
  }
 },
 "nbformat": 4,
 "nbformat_minor": 1
}
